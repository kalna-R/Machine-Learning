{
 "cells": [
  {
   "cell_type": "code",
   "execution_count": 1,
   "id": "93ebc6ff",
   "metadata": {},
   "outputs": [
    {
     "name": "stdout",
     "output_type": "stream",
     "text": [
      "[1 2 3 4 5]\n"
     ]
    }
   ],
   "source": [
    "# create an array\n",
    "import numpy\n",
    "\n",
    "arr = numpy.array([1,2,3,4,5])\n",
    "print(arr)"
   ]
  },
  {
   "cell_type": "code",
   "execution_count": 5,
   "id": "d5c81b3c",
   "metadata": {},
   "outputs": [
    {
     "name": "stdout",
     "output_type": "stream",
     "text": [
      "1.24.3\n"
     ]
    }
   ],
   "source": [
    "# numpy version\n",
    "import numpy as np\n",
    "\n",
    "print(np.__version__)"
   ]
  },
  {
   "cell_type": "code",
   "execution_count": 6,
   "id": "2dd1fee5",
   "metadata": {},
   "outputs": [
    {
     "name": "stdout",
     "output_type": "stream",
     "text": [
      "<class 'numpy.ndarray'>\n"
     ]
    }
   ],
   "source": [
    "# type of\n",
    "print(type(arr))"
   ]
  },
  {
   "cell_type": "code",
   "execution_count": 9,
   "id": "2c6737bf",
   "metadata": {},
   "outputs": [
    {
     "name": "stdout",
     "output_type": "stream",
     "text": [
      "[1 2 3 4 5]\n"
     ]
    },
    {
     "data": {
      "text/plain": [
       "5"
      ]
     },
     "execution_count": 9,
     "metadata": {},
     "output_type": "execute_result"
    }
   ],
   "source": [
    "# array index\n",
    "print(arr)\n",
    "arr[4]"
   ]
  },
  {
   "cell_type": "code",
   "execution_count": 15,
   "id": "ed258841",
   "metadata": {},
   "outputs": [
    {
     "name": "stdout",
     "output_type": "stream",
     "text": [
      "[[1 2 3]\n",
      " [9 8 7]]\n",
      "7\n"
     ]
    }
   ],
   "source": [
    "# access 2D array\n",
    "nd_array = np.array([[1,2,3], [9,8,7]])\n",
    "\n",
    "print(nd_array)\n",
    "\n",
    "# 2nd row, 3rd column\n",
    "print(nd_array[1,2])"
   ]
  },
  {
   "cell_type": "code",
   "execution_count": 20,
   "id": "854e849a",
   "metadata": {},
   "outputs": [
    {
     "name": "stdout",
     "output_type": "stream",
     "text": [
      "[[[ 1  2  3]\n",
      "  [ 9  8  7]]\n",
      "\n",
      " [[10 20 30]\n",
      "  [90 80 70]]]\n",
      "7\n"
     ]
    }
   ],
   "source": [
    "# 3 dimensional array\n",
    "nd_array = np.array([[[1,2,3], [9,8,7]], [[10,20,30], [90,80,70]]])\n",
    "\n",
    "print(nd_array)\n",
    "\n",
    "print(nd_array[0,1,2])"
   ]
  },
  {
   "cell_type": "code",
   "execution_count": 25,
   "id": "6bff96ed",
   "metadata": {},
   "outputs": [
    {
     "name": "stdout",
     "output_type": "stream",
     "text": [
      "one before last element :  8\n"
     ]
    }
   ],
   "source": [
    "# negative indexing\n",
    "nd_array = np.array([[1,2,3], [9,8,7]])\n",
    "\n",
    "print('one before last element : ', nd_array[1,-2])"
   ]
  },
  {
   "cell_type": "code",
   "execution_count": 37,
   "id": "e3daafa8",
   "metadata": {},
   "outputs": [
    {
     "name": "stdout",
     "output_type": "stream",
     "text": [
      "[3 4]\n",
      "[1 2 3 4]\n",
      "[3 4 5 6]\n"
     ]
    }
   ],
   "source": [
    "# array slicing\n",
    "arr = numpy.array([1,2,3,4,5,6])\n",
    "\n",
    "# from 2nd index to 4th index (include start, exclude end)\n",
    "print(arr[2:4]) \n",
    "\n",
    "# from starting element\n",
    "print(arr[:4]) \n",
    "\n",
    "# until the last element\n",
    "print(arr[2:]) "
   ]
  },
  {
   "cell_type": "code",
   "execution_count": 39,
   "id": "b442868b",
   "metadata": {},
   "outputs": [
    {
     "name": "stdout",
     "output_type": "stream",
     "text": [
      "Old  [1 2 3 4 5 6]\n",
      "New  [ 1  2  3 99  5  6]\n"
     ]
    }
   ],
   "source": [
    "# copying an array - no changes to the original arr\n",
    "copy_arr = arr.copy()\n",
    "copy_arr[3] = 99\n",
    "\n",
    "print(\"Old \", arr)\n",
    "print(\"New \", copy_arr)"
   ]
  },
  {
   "cell_type": "code",
   "execution_count": 40,
   "id": "adf5cf13",
   "metadata": {},
   "outputs": [
    {
     "name": "stdout",
     "output_type": "stream",
     "text": [
      "[11  2  3  4  5  6]\n",
      "[11  2  3  4  5  6]\n"
     ]
    }
   ],
   "source": [
    "# view an array - changes are made to the original array\n",
    "view = arr.view()\n",
    "view[0] = 11\n",
    "\n",
    "print(arr)\n",
    "print(view)"
   ]
  },
  {
   "cell_type": "code",
   "execution_count": 41,
   "id": "59e456bc",
   "metadata": {},
   "outputs": [
    {
     "name": "stdout",
     "output_type": "stream",
     "text": [
      "(2, 3)\n"
     ]
    }
   ],
   "source": [
    "# array reshaping\n",
    "arr = np.array([[1,2,3], [9,8,7]])\n",
    "print(arr.shape) \n",
    "\n",
    "# result -> 2 dimensions, 3 elements"
   ]
  },
  {
   "cell_type": "code",
   "execution_count": 42,
   "id": "5c437f1b",
   "metadata": {},
   "outputs": [
    {
     "name": "stdout",
     "output_type": "stream",
     "text": [
      "[[[[[1 2 3 4]]]]]\n",
      "(1, 1, 1, 1, 4)\n"
     ]
    }
   ],
   "source": [
    "# array with 5D using ndmin\n",
    "arr = np.array([1,2,3,4], ndmin = 5)\n",
    "\n",
    "print(arr)\n",
    "print(arr.shape) "
   ]
  },
  {
   "cell_type": "code",
   "execution_count": 48,
   "id": "fc876d68",
   "metadata": {},
   "outputs": [
    {
     "name": "stdout",
     "output_type": "stream",
     "text": [
      "[[1 2]\n",
      " [3 4]\n",
      " [5 6]]\n"
     ]
    }
   ],
   "source": [
    "# reshape from 1D to 2D\n",
    "arr = np.array([1,2,3,4,5,6])\n",
    "newArr = arr.reshape(3,2)\n",
    "print(newArr)"
   ]
  },
  {
   "cell_type": "code",
   "execution_count": 49,
   "id": "b02d1510",
   "metadata": {},
   "outputs": [
    {
     "name": "stdout",
     "output_type": "stream",
     "text": [
      "1\n",
      "2\n",
      "3\n",
      "4\n",
      "5\n",
      "6\n"
     ]
    }
   ],
   "source": [
    "# 1D array iteration \n",
    "arr = np.array([1,2,3,4,5,6])\n",
    "\n",
    "for i in arr:\n",
    "    print(i)"
   ]
  },
  {
   "cell_type": "code",
   "execution_count": 51,
   "id": "a2444aa2",
   "metadata": {},
   "outputs": [
    {
     "name": "stdout",
     "output_type": "stream",
     "text": [
      "[1 2 3]\n",
      "[4 5 6]\n"
     ]
    }
   ],
   "source": [
    "# 2D array iteration \n",
    "arr = np.array([[1,2,3],[4,5,6]])\n",
    "\n",
    "for i in arr:\n",
    "    print(i)"
   ]
  },
  {
   "cell_type": "code",
   "execution_count": null,
   "id": "aeb7f135",
   "metadata": {},
   "outputs": [],
   "source": []
  }
 ],
 "metadata": {
  "kernelspec": {
   "display_name": "Python 3 (ipykernel)",
   "language": "python",
   "name": "python3"
  },
  "language_info": {
   "codemirror_mode": {
    "name": "ipython",
    "version": 3
   },
   "file_extension": ".py",
   "mimetype": "text/x-python",
   "name": "python",
   "nbconvert_exporter": "python",
   "pygments_lexer": "ipython3",
   "version": "3.11.5"
  }
 },
 "nbformat": 4,
 "nbformat_minor": 5
}
